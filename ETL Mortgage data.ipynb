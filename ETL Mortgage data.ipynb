{
 "cells": [
  {
   "cell_type": "code",
   "execution_count": 11,
   "metadata": {},
   "outputs": [],
   "source": [
    "import pandas as pd\n",
    "%matplotlib inline"
   ]
  },
  {
   "cell_type": "markdown",
   "metadata": {},
   "source": [
    "## Import data"
   ]
  },
  {
   "cell_type": "code",
   "execution_count": null,
   "metadata": {},
   "outputs": [],
   "source": [
    "## Read the file\n",
    "#data = pd.read_csv(\"hmda_2011_nationwide_first-lien-owner-occupied-1-4-family-records_labels.csv\")\n",
    "data = pd.read_csv(\"hmda_2011_nationwide_all-records_labels.csv\", nrows=3000000)"
   ]
  },
  {
   "cell_type": "markdown",
   "metadata": {},
   "source": [
    "## Checkings"
   ]
  },
  {
   "cell_type": "code",
   "execution_count": 37,
   "metadata": {},
   "outputs": [
    {
     "data": {
      "text/plain": [
       "(3000000, 78)"
      ]
     },
     "execution_count": 37,
     "metadata": {},
     "output_type": "execute_result"
    }
   ],
   "source": [
    "data.shape"
   ]
  },
  {
   "cell_type": "code",
   "execution_count": 38,
   "metadata": {},
   "outputs": [
    {
     "data": {
      "text/plain": [
       "Index(['as_of_year', 'respondent_id', 'agency_name', 'agency_abbr',\n",
       "       'agency_code', 'loan_type_name', 'loan_type', 'property_type_name',\n",
       "       'property_type', 'loan_purpose_name', 'loan_purpose',\n",
       "       'owner_occupancy_name', 'owner_occupancy', 'loan_amount_000s',\n",
       "       'preapproval_name', 'preapproval', 'action_taken_name', 'action_taken',\n",
       "       'msamd_name', 'msamd', 'state_name', 'state_abbr', 'state_code',\n",
       "       'county_name', 'county_code', 'census_tract_number',\n",
       "       'applicant_ethnicity_name', 'applicant_ethnicity',\n",
       "       'co_applicant_ethnicity_name', 'co_applicant_ethnicity',\n",
       "       'applicant_race_name_1', 'applicant_race_1', 'applicant_race_name_2',\n",
       "       'applicant_race_2', 'applicant_race_name_3', 'applicant_race_3',\n",
       "       'applicant_race_name_4', 'applicant_race_4', 'applicant_race_name_5',\n",
       "       'applicant_race_5', 'co_applicant_race_name_1', 'co_applicant_race_1',\n",
       "       'co_applicant_race_name_2', 'co_applicant_race_2',\n",
       "       'co_applicant_race_name_3', 'co_applicant_race_3',\n",
       "       'co_applicant_race_name_4', 'co_applicant_race_4',\n",
       "       'co_applicant_race_name_5', 'co_applicant_race_5', 'applicant_sex_name',\n",
       "       'applicant_sex', 'co_applicant_sex_name', 'co_applicant_sex',\n",
       "       'applicant_income_000s', 'purchaser_type_name', 'purchaser_type',\n",
       "       'denial_reason_name_1', 'denial_reason_1', 'denial_reason_name_2',\n",
       "       'denial_reason_2', 'denial_reason_name_3', 'denial_reason_3',\n",
       "       'rate_spread', 'hoepa_status_name', 'hoepa_status', 'lien_status_name',\n",
       "       'lien_status', 'edit_status_name', 'edit_status', 'sequence_number',\n",
       "       'population', 'minority_population', 'hud_median_family_income',\n",
       "       'tract_to_msamd_income', 'number_of_owner_occupied_units',\n",
       "       'number_of_1_to_4_family_units', 'application_date_indicator'],\n",
       "      dtype='object')"
      ]
     },
     "execution_count": 38,
     "metadata": {},
     "output_type": "execute_result"
    }
   ],
   "source": [
    "data.columns"
   ]
  },
  {
   "cell_type": "code",
   "execution_count": 39,
   "metadata": {},
   "outputs": [
    {
     "data": {
      "text/html": [
       "<div>\n",
       "<style scoped>\n",
       "    .dataframe tbody tr th:only-of-type {\n",
       "        vertical-align: middle;\n",
       "    }\n",
       "\n",
       "    .dataframe tbody tr th {\n",
       "        vertical-align: top;\n",
       "    }\n",
       "\n",
       "    .dataframe thead th {\n",
       "        text-align: right;\n",
       "    }\n",
       "</style>\n",
       "<table border=\"1\" class=\"dataframe\">\n",
       "  <thead>\n",
       "    <tr style=\"text-align: right;\">\n",
       "      <th></th>\n",
       "      <th>as_of_year</th>\n",
       "      <th>agency_code</th>\n",
       "      <th>loan_type</th>\n",
       "      <th>property_type</th>\n",
       "      <th>loan_purpose</th>\n",
       "      <th>owner_occupancy</th>\n",
       "      <th>loan_amount_000s</th>\n",
       "      <th>preapproval</th>\n",
       "      <th>action_taken</th>\n",
       "      <th>msamd</th>\n",
       "      <th>...</th>\n",
       "      <th>lien_status</th>\n",
       "      <th>edit_status</th>\n",
       "      <th>sequence_number</th>\n",
       "      <th>population</th>\n",
       "      <th>minority_population</th>\n",
       "      <th>hud_median_family_income</th>\n",
       "      <th>tract_to_msamd_income</th>\n",
       "      <th>number_of_owner_occupied_units</th>\n",
       "      <th>number_of_1_to_4_family_units</th>\n",
       "      <th>application_date_indicator</th>\n",
       "    </tr>\n",
       "  </thead>\n",
       "  <tbody>\n",
       "    <tr>\n",
       "      <th>count</th>\n",
       "      <td>3000000.0</td>\n",
       "      <td>3.000000e+06</td>\n",
       "      <td>3.000000e+06</td>\n",
       "      <td>3.000000e+06</td>\n",
       "      <td>3.000000e+06</td>\n",
       "      <td>3.000000e+06</td>\n",
       "      <td>3.000000e+06</td>\n",
       "      <td>3.000000e+06</td>\n",
       "      <td>3.000000e+06</td>\n",
       "      <td>2.633447e+06</td>\n",
       "      <td>...</td>\n",
       "      <td>3.000000e+06</td>\n",
       "      <td>576940.0</td>\n",
       "      <td>3.000000e+06</td>\n",
       "      <td>2.978915e+06</td>\n",
       "      <td>2.978859e+06</td>\n",
       "      <td>2.978982e+06</td>\n",
       "      <td>2.978362e+06</td>\n",
       "      <td>2.977826e+06</td>\n",
       "      <td>2.978341e+06</td>\n",
       "      <td>3.000000e+06</td>\n",
       "    </tr>\n",
       "    <tr>\n",
       "      <th>mean</th>\n",
       "      <td>2011.0</td>\n",
       "      <td>7.432993e+00</td>\n",
       "      <td>1.350881e+00</td>\n",
       "      <td>1.023907e+00</td>\n",
       "      <td>2.283479e+00</td>\n",
       "      <td>1.103087e+00</td>\n",
       "      <td>2.081367e+02</td>\n",
       "      <td>2.882847e+00</td>\n",
       "      <td>2.761794e+00</td>\n",
       "      <td>2.944142e+04</td>\n",
       "      <td>...</td>\n",
       "      <td>1.672701e+00</td>\n",
       "      <td>6.0</td>\n",
       "      <td>2.544978e+05</td>\n",
       "      <td>5.898431e+03</td>\n",
       "      <td>2.171289e+01</td>\n",
       "      <td>7.059993e+04</td>\n",
       "      <td>1.187273e+02</td>\n",
       "      <td>1.645481e+03</td>\n",
       "      <td>2.086364e+03</td>\n",
       "      <td>4.153937e-01</td>\n",
       "    </tr>\n",
       "    <tr>\n",
       "      <th>std</th>\n",
       "      <td>0.0</td>\n",
       "      <td>2.336828e+00</td>\n",
       "      <td>6.593413e-01</td>\n",
       "      <td>1.659612e-01</td>\n",
       "      <td>9.368318e-01</td>\n",
       "      <td>3.135034e-01</td>\n",
       "      <td>3.954469e+02</td>\n",
       "      <td>3.681470e-01</td>\n",
       "      <td>2.007879e+00</td>\n",
       "      <td>1.148475e+04</td>\n",
       "      <td>...</td>\n",
       "      <td>1.222961e+00</td>\n",
       "      <td>0.0</td>\n",
       "      <td>4.596604e+05</td>\n",
       "      <td>3.048176e+03</td>\n",
       "      <td>2.138369e+01</td>\n",
       "      <td>1.389599e+04</td>\n",
       "      <td>3.883758e+01</td>\n",
       "      <td>9.365178e+02</td>\n",
       "      <td>1.130840e+03</td>\n",
       "      <td>8.113158e-01</td>\n",
       "    </tr>\n",
       "    <tr>\n",
       "      <th>min</th>\n",
       "      <td>2011.0</td>\n",
       "      <td>1.000000e+00</td>\n",
       "      <td>1.000000e+00</td>\n",
       "      <td>1.000000e+00</td>\n",
       "      <td>1.000000e+00</td>\n",
       "      <td>1.000000e+00</td>\n",
       "      <td>1.000000e+00</td>\n",
       "      <td>1.000000e+00</td>\n",
       "      <td>1.000000e+00</td>\n",
       "      <td>1.018000e+04</td>\n",
       "      <td>...</td>\n",
       "      <td>1.000000e+00</td>\n",
       "      <td>6.0</td>\n",
       "      <td>1.000000e+00</td>\n",
       "      <td>1.000000e+00</td>\n",
       "      <td>2.300000e-01</td>\n",
       "      <td>1.630000e+04</td>\n",
       "      <td>4.160000e+00</td>\n",
       "      <td>1.000000e+00</td>\n",
       "      <td>1.000000e+00</td>\n",
       "      <td>0.000000e+00</td>\n",
       "    </tr>\n",
       "    <tr>\n",
       "      <th>25%</th>\n",
       "      <td>2011.0</td>\n",
       "      <td>7.000000e+00</td>\n",
       "      <td>1.000000e+00</td>\n",
       "      <td>1.000000e+00</td>\n",
       "      <td>1.000000e+00</td>\n",
       "      <td>1.000000e+00</td>\n",
       "      <td>1.020000e+02</td>\n",
       "      <td>3.000000e+00</td>\n",
       "      <td>1.000000e+00</td>\n",
       "      <td>1.814000e+04</td>\n",
       "      <td>...</td>\n",
       "      <td>1.000000e+00</td>\n",
       "      <td>6.0</td>\n",
       "      <td>3.309000e+03</td>\n",
       "      <td>3.913000e+03</td>\n",
       "      <td>6.630000e+00</td>\n",
       "      <td>6.200000e+04</td>\n",
       "      <td>9.381000e+01</td>\n",
       "      <td>1.042000e+03</td>\n",
       "      <td>1.363000e+03</td>\n",
       "      <td>0.000000e+00</td>\n",
       "    </tr>\n",
       "    <tr>\n",
       "      <th>50%</th>\n",
       "      <td>2011.0</td>\n",
       "      <td>9.000000e+00</td>\n",
       "      <td>1.000000e+00</td>\n",
       "      <td>1.000000e+00</td>\n",
       "      <td>3.000000e+00</td>\n",
       "      <td>1.000000e+00</td>\n",
       "      <td>1.640000e+02</td>\n",
       "      <td>3.000000e+00</td>\n",
       "      <td>2.000000e+00</td>\n",
       "      <td>3.114000e+04</td>\n",
       "      <td>...</td>\n",
       "      <td>1.000000e+00</td>\n",
       "      <td>6.0</td>\n",
       "      <td>3.610200e+04</td>\n",
       "      <td>5.313000e+03</td>\n",
       "      <td>1.423000e+01</td>\n",
       "      <td>6.790000e+04</td>\n",
       "      <td>1.119800e+02</td>\n",
       "      <td>1.472000e+03</td>\n",
       "      <td>1.850000e+03</td>\n",
       "      <td>0.000000e+00</td>\n",
       "    </tr>\n",
       "    <tr>\n",
       "      <th>75%</th>\n",
       "      <td>2011.0</td>\n",
       "      <td>9.000000e+00</td>\n",
       "      <td>2.000000e+00</td>\n",
       "      <td>1.000000e+00</td>\n",
       "      <td>3.000000e+00</td>\n",
       "      <td>1.000000e+00</td>\n",
       "      <td>2.590000e+02</td>\n",
       "      <td>3.000000e+00</td>\n",
       "      <td>4.000000e+00</td>\n",
       "      <td>3.890000e+04</td>\n",
       "      <td>...</td>\n",
       "      <td>1.000000e+00</td>\n",
       "      <td>6.0</td>\n",
       "      <td>2.337952e+05</td>\n",
       "      <td>7.096000e+03</td>\n",
       "      <td>2.846000e+01</td>\n",
       "      <td>8.140000e+04</td>\n",
       "      <td>1.364900e+02</td>\n",
       "      <td>2.017000e+03</td>\n",
       "      <td>2.511000e+03</td>\n",
       "      <td>0.000000e+00</td>\n",
       "    </tr>\n",
       "    <tr>\n",
       "      <th>max</th>\n",
       "      <td>2011.0</td>\n",
       "      <td>9.000000e+00</td>\n",
       "      <td>4.000000e+00</td>\n",
       "      <td>3.000000e+00</td>\n",
       "      <td>3.000000e+00</td>\n",
       "      <td>3.000000e+00</td>\n",
       "      <td>9.500000e+04</td>\n",
       "      <td>3.000000e+00</td>\n",
       "      <td>8.000000e+00</td>\n",
       "      <td>4.974000e+04</td>\n",
       "      <td>...</td>\n",
       "      <td>4.000000e+00</td>\n",
       "      <td>6.0</td>\n",
       "      <td>2.166131e+06</td>\n",
       "      <td>3.614600e+04</td>\n",
       "      <td>1.000000e+02</td>\n",
       "      <td>1.119000e+05</td>\n",
       "      <td>4.967000e+02</td>\n",
       "      <td>9.880000e+03</td>\n",
       "      <td>1.072400e+04</td>\n",
       "      <td>2.000000e+00</td>\n",
       "    </tr>\n",
       "  </tbody>\n",
       "</table>\n",
       "<p>8 rows × 44 columns</p>\n",
       "</div>"
      ],
      "text/plain": [
       "       as_of_year   agency_code     loan_type  property_type  loan_purpose  \\\n",
       "count   3000000.0  3.000000e+06  3.000000e+06   3.000000e+06  3.000000e+06   \n",
       "mean       2011.0  7.432993e+00  1.350881e+00   1.023907e+00  2.283479e+00   \n",
       "std           0.0  2.336828e+00  6.593413e-01   1.659612e-01  9.368318e-01   \n",
       "min        2011.0  1.000000e+00  1.000000e+00   1.000000e+00  1.000000e+00   \n",
       "25%        2011.0  7.000000e+00  1.000000e+00   1.000000e+00  1.000000e+00   \n",
       "50%        2011.0  9.000000e+00  1.000000e+00   1.000000e+00  3.000000e+00   \n",
       "75%        2011.0  9.000000e+00  2.000000e+00   1.000000e+00  3.000000e+00   \n",
       "max        2011.0  9.000000e+00  4.000000e+00   3.000000e+00  3.000000e+00   \n",
       "\n",
       "       owner_occupancy  loan_amount_000s   preapproval  action_taken  \\\n",
       "count     3.000000e+06      3.000000e+06  3.000000e+06  3.000000e+06   \n",
       "mean      1.103087e+00      2.081367e+02  2.882847e+00  2.761794e+00   \n",
       "std       3.135034e-01      3.954469e+02  3.681470e-01  2.007879e+00   \n",
       "min       1.000000e+00      1.000000e+00  1.000000e+00  1.000000e+00   \n",
       "25%       1.000000e+00      1.020000e+02  3.000000e+00  1.000000e+00   \n",
       "50%       1.000000e+00      1.640000e+02  3.000000e+00  2.000000e+00   \n",
       "75%       1.000000e+00      2.590000e+02  3.000000e+00  4.000000e+00   \n",
       "max       3.000000e+00      9.500000e+04  3.000000e+00  8.000000e+00   \n",
       "\n",
       "              msamd  ...   lien_status  edit_status  sequence_number  \\\n",
       "count  2.633447e+06  ...  3.000000e+06     576940.0     3.000000e+06   \n",
       "mean   2.944142e+04  ...  1.672701e+00          6.0     2.544978e+05   \n",
       "std    1.148475e+04  ...  1.222961e+00          0.0     4.596604e+05   \n",
       "min    1.018000e+04  ...  1.000000e+00          6.0     1.000000e+00   \n",
       "25%    1.814000e+04  ...  1.000000e+00          6.0     3.309000e+03   \n",
       "50%    3.114000e+04  ...  1.000000e+00          6.0     3.610200e+04   \n",
       "75%    3.890000e+04  ...  1.000000e+00          6.0     2.337952e+05   \n",
       "max    4.974000e+04  ...  4.000000e+00          6.0     2.166131e+06   \n",
       "\n",
       "         population  minority_population  hud_median_family_income  \\\n",
       "count  2.978915e+06         2.978859e+06              2.978982e+06   \n",
       "mean   5.898431e+03         2.171289e+01              7.059993e+04   \n",
       "std    3.048176e+03         2.138369e+01              1.389599e+04   \n",
       "min    1.000000e+00         2.300000e-01              1.630000e+04   \n",
       "25%    3.913000e+03         6.630000e+00              6.200000e+04   \n",
       "50%    5.313000e+03         1.423000e+01              6.790000e+04   \n",
       "75%    7.096000e+03         2.846000e+01              8.140000e+04   \n",
       "max    3.614600e+04         1.000000e+02              1.119000e+05   \n",
       "\n",
       "       tract_to_msamd_income  number_of_owner_occupied_units  \\\n",
       "count           2.978362e+06                    2.977826e+06   \n",
       "mean            1.187273e+02                    1.645481e+03   \n",
       "std             3.883758e+01                    9.365178e+02   \n",
       "min             4.160000e+00                    1.000000e+00   \n",
       "25%             9.381000e+01                    1.042000e+03   \n",
       "50%             1.119800e+02                    1.472000e+03   \n",
       "75%             1.364900e+02                    2.017000e+03   \n",
       "max             4.967000e+02                    9.880000e+03   \n",
       "\n",
       "       number_of_1_to_4_family_units  application_date_indicator  \n",
       "count                   2.978341e+06                3.000000e+06  \n",
       "mean                    2.086364e+03                4.153937e-01  \n",
       "std                     1.130840e+03                8.113158e-01  \n",
       "min                     1.000000e+00                0.000000e+00  \n",
       "25%                     1.363000e+03                0.000000e+00  \n",
       "50%                     1.850000e+03                0.000000e+00  \n",
       "75%                     2.511000e+03                0.000000e+00  \n",
       "max                     1.072400e+04                2.000000e+00  \n",
       "\n",
       "[8 rows x 44 columns]"
      ]
     },
     "execution_count": 39,
     "metadata": {},
     "output_type": "execute_result"
    }
   ],
   "source": [
    "data.describe()"
   ]
  },
  {
   "cell_type": "code",
   "execution_count": 49,
   "metadata": {},
   "outputs": [
    {
     "data": {
      "text/plain": [
       "Collateral                                        94346\n",
       "Credit history                                    82398\n",
       "Debt-to-income ratio                              79117\n",
       "Credit application incomplete                     50226\n",
       "Other                                             43278\n",
       "Unverifiable information                          13140\n",
       "Insufficient cash (downpayment, closing costs)     8290\n",
       "Employment history                                 4714\n",
       "Mortgage insurance denied                           642\n",
       "Name: denial_reason_name_1, dtype: int64"
      ]
     },
     "execution_count": 49,
     "metadata": {},
     "output_type": "execute_result"
    }
   ],
   "source": [
    "data[\"denial_reason_name_1\"].value_counts()"
   ]
  },
  {
   "cell_type": "code",
   "execution_count": 40,
   "metadata": {},
   "outputs": [
    {
     "data": {
      "text/plain": [
       "Loan originated                                        1455767\n",
       "Loan purchased by the institution                       623087\n",
       "Application denied by financial institution             457683\n",
       "Application withdrawn by applicant                      247374\n",
       "Application approved but not accepted                   121830\n",
       "File closed for incompleteness                           88514\n",
       "Preapproval request denied by financial institution       3642\n",
       "Preapproval request approved but not accepted             2103\n",
       "Name: action_taken_name, dtype: int64"
      ]
     },
     "execution_count": 40,
     "metadata": {},
     "output_type": "execute_result"
    }
   ],
   "source": [
    "data[\"action_taken_name\"].value_counts()"
   ]
  },
  {
   "cell_type": "markdown",
   "metadata": {},
   "source": [
    "## Subsets of data\n",
    "### 1. sample 200,000 keeping roughly the original distribution\n",
    "### 2. sample 200,000, with 50/50 share of accepted/rejected"
   ]
  },
  {
   "cell_type": "code",
   "execution_count": 119,
   "metadata": {},
   "outputs": [],
   "source": [
    "# remove nans and not applicable\n",
    "sex_rem = (data[\"applicant_sex_name\"] != 'Information not provided by applicant in mail, Internet, or telephone application') & (data[\"applicant_sex_name\"] != 'Not applicable')\n",
    "race_rem = (data[\"applicant_race_name_1\"] != 'Information not provided by applicant in mail, Internet, or telephone application') & (data[\"applicant_race_name_1\"] != 'Not applicable')\n",
    "eth_rem = (data[\"applicant_ethnicity_name\"] != 'Information not provided by applicant in mail, Internet, or telephone application') & (data[\"applicant_ethnicity_name\"] != 'Not applicable')\n",
    "rem_data = sex_rem & race_rem & eth_rem\n",
    "rem_data = rem_data & (data[\"applicant_income_000s\"].isnull() == False) & (data[\"population\"].isnull() == False)\n",
    "rem_data = rem_data & (data[\"minority_population\"].isnull() == False) & (data[\"hud_median_family_income\"].isnull() == False)\n",
    "rem_data = rem_data & (data[\"tract_to_msamd_income\"].isnull() == False) & (data[\"number_of_owner_occupied_units\"].isnull() == False) & (data[\"number_of_1_to_4_family_units\"].isnull() == False)\n",
    "\n",
    "# get data\n",
    "subset_orig = (data[\"action_taken_name\"] == \"Loan originated\") & rem_data\n",
    "subset_denied = (data.loc[rem_data][\"action_taken_name\"] == \"Application denied by financial institution\") & rem_data\n",
    "subset_loans = (data.loc[rem_data][\"action_taken_name\"] == \"Loan originated\") | (data.loc[rem_data][\"action_taken_name\"] == \"Application denied by financial institution\") & rem_data"
   ]
  },
  {
   "cell_type": "code",
   "execution_count": 120,
   "metadata": {},
   "outputs": [],
   "source": [
    "subdf_1 = data.loc[subset_loans].sample(n=200000, random_state=10)\n",
    "subdf_1.index = list(range(subdf_1.shape[0]))"
   ]
  },
  {
   "cell_type": "code",
   "execution_count": 121,
   "metadata": {},
   "outputs": [],
   "source": [
    "subdf_2 = pd.concat([data.loc[subset_orig].sample(n=100000, random_state=10), \n",
    "                     data.loc[subset_denied].sample(n=100000, random_state=10)], \n",
    "                    axis=0, ignore_index=True)"
   ]
  },
  {
   "cell_type": "markdown",
   "metadata": {},
   "source": [
    "## Checking if the proportions are kept"
   ]
  },
  {
   "cell_type": "markdown",
   "metadata": {},
   "source": [
    "### Sample 1"
   ]
  },
  {
   "cell_type": "code",
   "execution_count": 122,
   "metadata": {},
   "outputs": [
    {
     "data": {
      "text/plain": [
       "Male     -0.001239\n",
       "Female    0.001239\n",
       "Name: applicant_sex_name, dtype: float64"
      ]
     },
     "execution_count": 122,
     "metadata": {},
     "output_type": "execute_result"
    }
   ],
   "source": [
    "# gender\n",
    "(subdf_1[\"applicant_sex_name\"].value_counts()/subdf_1.shape[0] - data.loc[subset_loans][\"applicant_sex_name\"].value_counts()/data.loc[subset_loans].shape[0])"
   ]
  },
  {
   "cell_type": "code",
   "execution_count": 123,
   "metadata": {},
   "outputs": [
    {
     "data": {
      "text/plain": [
       "White                                        0.000747\n",
       "Asian                                       -0.000372\n",
       "Black or African American                    0.000137\n",
       "American Indian or Alaska Native            -0.000246\n",
       "Native Hawaiian or Other Pacific Islander   -0.000266\n",
       "Name: applicant_race_name_1, dtype: float64"
      ]
     },
     "execution_count": 123,
     "metadata": {},
     "output_type": "execute_result"
    }
   ],
   "source": [
    "# race\n",
    "(subdf_1[\"applicant_race_name_1\"].value_counts()/subdf_1.shape[0] - data.loc[subset_loans][\"applicant_race_name_1\"].value_counts()/data.loc[subset_loans].shape[0])"
   ]
  },
  {
   "cell_type": "code",
   "execution_count": 124,
   "metadata": {},
   "outputs": [
    {
     "data": {
      "text/plain": [
       "Not Hispanic or Latino   -0.000055\n",
       "Hispanic or Latino        0.000055\n",
       "Name: applicant_ethnicity_name, dtype: float64"
      ]
     },
     "execution_count": 124,
     "metadata": {},
     "output_type": "execute_result"
    }
   ],
   "source": [
    "# ethnicity\n",
    "(subdf_1[\"applicant_ethnicity_name\"].value_counts()/subdf_1.shape[0] - data.loc[subset_loans][\"applicant_ethnicity_name\"].value_counts()/data.loc[subset_loans].shape[0])"
   ]
  },
  {
   "cell_type": "code",
   "execution_count": 125,
   "metadata": {},
   "outputs": [
    {
     "data": {
      "text/plain": [
       "Loan originated                               -0.001372\n",
       "Application denied by financial institution    0.001372\n",
       "Name: action_taken_name, dtype: float64"
      ]
     },
     "execution_count": 125,
     "metadata": {},
     "output_type": "execute_result"
    }
   ],
   "source": [
    "# accept/denied\n",
    "(subdf_1[\"action_taken_name\"].value_counts()/subdf_1.shape[0] - data.loc[subset_loans][\"action_taken_name\"].value_counts()/data.loc[subset_loans].shape[0])"
   ]
  },
  {
   "cell_type": "markdown",
   "metadata": {},
   "source": [
    "### Sample 2"
   ]
  },
  {
   "cell_type": "code",
   "execution_count": 126,
   "metadata": {},
   "outputs": [
    {
     "data": {
      "text/plain": [
       "Male     -0.013659\n",
       "Female    0.013659\n",
       "Name: applicant_sex_name, dtype: float64"
      ]
     },
     "execution_count": 126,
     "metadata": {},
     "output_type": "execute_result"
    }
   ],
   "source": [
    "# gender\n",
    "(subdf_2[\"applicant_sex_name\"].value_counts()/subdf_2.shape[0] - data.loc[subset_loans][\"applicant_sex_name\"].value_counts()/data.loc[subset_loans].shape[0])"
   ]
  },
  {
   "cell_type": "code",
   "execution_count": 127,
   "metadata": {},
   "outputs": [
    {
     "data": {
      "text/plain": [
       "American Indian or Alaska Native             0.001064\n",
       "Asian                                       -0.002487\n",
       "Black or African American                    0.016677\n",
       "Native Hawaiian or Other Pacific Islander    0.000564\n",
       "White                                       -0.015818\n",
       "Name: applicant_race_name_1, dtype: float64"
      ]
     },
     "execution_count": 127,
     "metadata": {},
     "output_type": "execute_result"
    }
   ],
   "source": [
    "# race\n",
    "(subdf_2[\"applicant_race_name_1\"].value_counts()/subdf_1.shape[0] - data.loc[subset_loans][\"applicant_race_name_1\"].value_counts()/data.loc[subset_loans].shape[0])"
   ]
  },
  {
   "cell_type": "code",
   "execution_count": 128,
   "metadata": {},
   "outputs": [
    {
     "data": {
      "text/plain": [
       "Not Hispanic or Latino   -0.00704\n",
       "Hispanic or Latino        0.00704\n",
       "Name: applicant_ethnicity_name, dtype: float64"
      ]
     },
     "execution_count": 128,
     "metadata": {},
     "output_type": "execute_result"
    }
   ],
   "source": [
    "# ethnicity\n",
    "(subdf_2[\"applicant_ethnicity_name\"].value_counts()/subdf_1.shape[0] - data.loc[subset_loans][\"applicant_ethnicity_name\"].value_counts()/data.loc[subset_loans].shape[0])"
   ]
  },
  {
   "cell_type": "code",
   "execution_count": 129,
   "metadata": {},
   "outputs": [
    {
     "data": {
      "text/plain": [
       "Application denied by financial institution    0.271907\n",
       "Loan originated                               -0.271907\n",
       "Name: action_taken_name, dtype: float64"
      ]
     },
     "execution_count": 129,
     "metadata": {},
     "output_type": "execute_result"
    }
   ],
   "source": [
    "# accept/denied\n",
    "(subdf_2[\"action_taken_name\"].value_counts()/subdf_2.shape[0] - data.loc[subset_loans][\"action_taken_name\"].value_counts()/data.loc[subset_loans].shape[0])"
   ]
  },
  {
   "cell_type": "markdown",
   "metadata": {},
   "source": [
    "## Exporting files"
   ]
  },
  {
   "cell_type": "code",
   "execution_count": 130,
   "metadata": {},
   "outputs": [],
   "source": [
    "subdf_1.to_csv(\"mortgage_data.csv\")\n",
    "subdf_1.to_pickle(\"mortgage_data.pkl.gz\")"
   ]
  },
  {
   "cell_type": "code",
   "execution_count": 131,
   "metadata": {},
   "outputs": [],
   "source": [
    "subdf_2.to_csv(\"mortgage_data_balanced.csv\")\n",
    "subdf_2.to_pickle(\"mortgage_data_balanced.pkl.gz\")"
   ]
  }
 ],
 "metadata": {
  "kernelspec": {
   "display_name": "Python 3",
   "language": "python",
   "name": "python3"
  },
  "language_info": {
   "codemirror_mode": {
    "name": "ipython",
    "version": 3
   },
   "file_extension": ".py",
   "mimetype": "text/x-python",
   "name": "python",
   "nbconvert_exporter": "python",
   "pygments_lexer": "ipython3",
   "version": "3.7.3"
  }
 },
 "nbformat": 4,
 "nbformat_minor": 2
}
