{
 "cells": [
  {
   "cell_type": "code",
   "execution_count": 1,
   "metadata": {},
   "outputs": [],
   "source": [
    "import pandas as pd"
   ]
  },
  {
   "cell_type": "code",
   "execution_count": 2,
   "metadata": {},
   "outputs": [],
   "source": [
    "df = pd.read_pickle(\"mortgage_data_balanced.pkl.gz\")"
   ]
  },
  {
   "cell_type": "code",
   "execution_count": 3,
   "metadata": {},
   "outputs": [
    {
     "data": {
      "text/html": [
       "<div>\n",
       "<style scoped>\n",
       "    .dataframe tbody tr th:only-of-type {\n",
       "        vertical-align: middle;\n",
       "    }\n",
       "\n",
       "    .dataframe tbody tr th {\n",
       "        vertical-align: top;\n",
       "    }\n",
       "\n",
       "    .dataframe thead th {\n",
       "        text-align: right;\n",
       "    }\n",
       "</style>\n",
       "<table border=\"1\" class=\"dataframe\">\n",
       "  <thead>\n",
       "    <tr style=\"text-align: right;\">\n",
       "      <th>action_taken_name</th>\n",
       "      <th>Application denied by financial institution</th>\n",
       "      <th>Loan originated</th>\n",
       "    </tr>\n",
       "    <tr>\n",
       "      <th>applicant_ethnicity_name</th>\n",
       "      <th></th>\n",
       "      <th></th>\n",
       "    </tr>\n",
       "  </thead>\n",
       "  <tbody>\n",
       "    <tr>\n",
       "      <th>Hispanic or Latino</th>\n",
       "      <td>3.972</td>\n",
       "      <td>2.687</td>\n",
       "    </tr>\n",
       "    <tr>\n",
       "      <th>Not Hispanic or Latino</th>\n",
       "      <td>46.028</td>\n",
       "      <td>47.313</td>\n",
       "    </tr>\n",
       "  </tbody>\n",
       "</table>\n",
       "</div>"
      ],
      "text/plain": [
       "action_taken_name         Application denied by financial institution  \\\n",
       "applicant_ethnicity_name                                                \n",
       "Hispanic or Latino                                              3.972   \n",
       "Not Hispanic or Latino                                         46.028   \n",
       "\n",
       "action_taken_name         Loan originated  \n",
       "applicant_ethnicity_name                   \n",
       "Hispanic or Latino                  2.687  \n",
       "Not Hispanic or Latino             47.313  "
      ]
     },
     "execution_count": 3,
     "metadata": {},
     "output_type": "execute_result"
    }
   ],
   "source": [
    "pd.crosstab(df[\"applicant_ethnicity_name\"], df[\"action_taken_name\"])/200000 * 100.0"
   ]
  },
  {
   "cell_type": "code",
   "execution_count": 4,
   "metadata": {},
   "outputs": [
    {
     "data": {
      "text/html": [
       "<div>\n",
       "<style scoped>\n",
       "    .dataframe tbody tr th:only-of-type {\n",
       "        vertical-align: middle;\n",
       "    }\n",
       "\n",
       "    .dataframe tbody tr th {\n",
       "        vertical-align: top;\n",
       "    }\n",
       "\n",
       "    .dataframe thead th {\n",
       "        text-align: right;\n",
       "    }\n",
       "</style>\n",
       "<table border=\"1\" class=\"dataframe\">\n",
       "  <thead>\n",
       "    <tr style=\"text-align: right;\">\n",
       "      <th>action_taken_name</th>\n",
       "      <th>Application denied by financial institution</th>\n",
       "      <th>Loan originated</th>\n",
       "    </tr>\n",
       "    <tr>\n",
       "      <th>applicant_race_name_1</th>\n",
       "      <th></th>\n",
       "      <th></th>\n",
       "    </tr>\n",
       "  </thead>\n",
       "  <tbody>\n",
       "    <tr>\n",
       "      <th>American Indian or Alaska Native</th>\n",
       "      <td>0.4675</td>\n",
       "      <td>0.2485</td>\n",
       "    </tr>\n",
       "    <tr>\n",
       "      <th>Asian</th>\n",
       "      <td>2.5825</td>\n",
       "      <td>3.1330</td>\n",
       "    </tr>\n",
       "    <tr>\n",
       "      <th>Black or African American</th>\n",
       "      <td>5.3060</td>\n",
       "      <td>2.2000</td>\n",
       "    </tr>\n",
       "    <tr>\n",
       "      <th>Native Hawaiian or Other Pacific Islander</th>\n",
       "      <td>0.2305</td>\n",
       "      <td>0.1600</td>\n",
       "    </tr>\n",
       "    <tr>\n",
       "      <th>White</th>\n",
       "      <td>41.4135</td>\n",
       "      <td>44.2585</td>\n",
       "    </tr>\n",
       "  </tbody>\n",
       "</table>\n",
       "</div>"
      ],
      "text/plain": [
       "action_taken_name                          Application denied by financial institution  \\\n",
       "applicant_race_name_1                                                                    \n",
       "American Indian or Alaska Native                                                0.4675   \n",
       "Asian                                                                           2.5825   \n",
       "Black or African American                                                       5.3060   \n",
       "Native Hawaiian or Other Pacific Islander                                       0.2305   \n",
       "White                                                                          41.4135   \n",
       "\n",
       "action_taken_name                          Loan originated  \n",
       "applicant_race_name_1                                       \n",
       "American Indian or Alaska Native                    0.2485  \n",
       "Asian                                               3.1330  \n",
       "Black or African American                           2.2000  \n",
       "Native Hawaiian or Other Pacific Islander           0.1600  \n",
       "White                                              44.2585  "
      ]
     },
     "execution_count": 4,
     "metadata": {},
     "output_type": "execute_result"
    }
   ],
   "source": [
    "pd.crosstab(df[\"applicant_race_name_1\"], df[\"action_taken_name\"])/200000 * 100.0"
   ]
  },
  {
   "cell_type": "code",
   "execution_count": 5,
   "metadata": {},
   "outputs": [
    {
     "data": {
      "text/html": [
       "<div>\n",
       "<style scoped>\n",
       "    .dataframe tbody tr th:only-of-type {\n",
       "        vertical-align: middle;\n",
       "    }\n",
       "\n",
       "    .dataframe tbody tr th {\n",
       "        vertical-align: top;\n",
       "    }\n",
       "\n",
       "    .dataframe thead th {\n",
       "        text-align: right;\n",
       "    }\n",
       "</style>\n",
       "<table border=\"1\" class=\"dataframe\">\n",
       "  <thead>\n",
       "    <tr style=\"text-align: right;\">\n",
       "      <th>action_taken_name</th>\n",
       "      <th>Application denied by financial institution</th>\n",
       "      <th>Loan originated</th>\n",
       "    </tr>\n",
       "    <tr>\n",
       "      <th>applicant_sex_name</th>\n",
       "      <th></th>\n",
       "      <th></th>\n",
       "    </tr>\n",
       "  </thead>\n",
       "  <tbody>\n",
       "    <tr>\n",
       "      <th>Female</th>\n",
       "      <td>16.081</td>\n",
       "      <td>13.333</td>\n",
       "    </tr>\n",
       "    <tr>\n",
       "      <th>Male</th>\n",
       "      <td>33.919</td>\n",
       "      <td>36.667</td>\n",
       "    </tr>\n",
       "  </tbody>\n",
       "</table>\n",
       "</div>"
      ],
      "text/plain": [
       "action_taken_name   Application denied by financial institution  \\\n",
       "applicant_sex_name                                                \n",
       "Female                                                   16.081   \n",
       "Male                                                     33.919   \n",
       "\n",
       "action_taken_name   Loan originated  \n",
       "applicant_sex_name                   \n",
       "Female                       13.333  \n",
       "Male                         36.667  "
      ]
     },
     "execution_count": 5,
     "metadata": {},
     "output_type": "execute_result"
    }
   ],
   "source": [
    "pd.crosstab(df[\"applicant_sex_name\"], df[\"action_taken_name\"])/200000 * 100.0"
   ]
  }
 ],
 "metadata": {
  "kernelspec": {
   "display_name": "Python 3",
   "language": "python",
   "name": "python3"
  },
  "language_info": {
   "codemirror_mode": {
    "name": "ipython",
    "version": 3
   },
   "file_extension": ".py",
   "mimetype": "text/x-python",
   "name": "python",
   "nbconvert_exporter": "python",
   "pygments_lexer": "ipython3",
   "version": "3.7.3"
  }
 },
 "nbformat": 4,
 "nbformat_minor": 2
}
